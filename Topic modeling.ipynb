{
 "cells": [
  {
   "cell_type": "markdown",
   "metadata": {},
   "source": [
    "Topic modeling is a type of statistical modeling for discovering the abstract “topics” that occur in a collection of documents"
   ]
  },
  {
   "cell_type": "markdown",
   "metadata": {},
   "source": [
    "Latent Dirichlet Allocation (LDA) is an example of topic model and is used to classify text in a document to a particular topic. It builds a topic per document model and words per topic model, modeled as Dirichlet distributions."
   ]
  },
  {
   "cell_type": "code",
   "execution_count": 1,
   "metadata": {},
   "outputs": [
    {
     "data": {
      "text/html": [
       "<div>\n",
       "<style scoped>\n",
       "    .dataframe tbody tr th:only-of-type {\n",
       "        vertical-align: middle;\n",
       "    }\n",
       "\n",
       "    .dataframe tbody tr th {\n",
       "        vertical-align: top;\n",
       "    }\n",
       "\n",
       "    .dataframe thead th {\n",
       "        text-align: right;\n",
       "    }\n",
       "</style>\n",
       "<table border=\"1\" class=\"dataframe\">\n",
       "  <thead>\n",
       "    <tr style=\"text-align: right;\">\n",
       "      <th></th>\n",
       "      <th>publish_date</th>\n",
       "      <th>headline_text</th>\n",
       "    </tr>\n",
       "  </thead>\n",
       "  <tbody>\n",
       "    <tr>\n",
       "      <th>0</th>\n",
       "      <td>20030219</td>\n",
       "      <td>aba decides against community broadcasting lic...</td>\n",
       "    </tr>\n",
       "    <tr>\n",
       "      <th>1</th>\n",
       "      <td>20030219</td>\n",
       "      <td>act fire witnesses must be aware of defamation</td>\n",
       "    </tr>\n",
       "    <tr>\n",
       "      <th>2</th>\n",
       "      <td>20030219</td>\n",
       "      <td>a g calls for infrastructure protection summit</td>\n",
       "    </tr>\n",
       "    <tr>\n",
       "      <th>3</th>\n",
       "      <td>20030219</td>\n",
       "      <td>air nz staff in aust strike for pay rise</td>\n",
       "    </tr>\n",
       "    <tr>\n",
       "      <th>4</th>\n",
       "      <td>20030219</td>\n",
       "      <td>air nz strike to affect australian travellers</td>\n",
       "    </tr>\n",
       "  </tbody>\n",
       "</table>\n",
       "</div>"
      ],
      "text/plain": [
       "   publish_date                                      headline_text\n",
       "0      20030219  aba decides against community broadcasting lic...\n",
       "1      20030219     act fire witnesses must be aware of defamation\n",
       "2      20030219     a g calls for infrastructure protection summit\n",
       "3      20030219           air nz staff in aust strike for pay rise\n",
       "4      20030219      air nz strike to affect australian travellers"
      ]
     },
     "execution_count": 1,
     "metadata": {},
     "output_type": "execute_result"
    }
   ],
   "source": [
    "import pandas as pd\n",
    "data = pd.read_csv('abcnews-date-text.csv', error_bad_lines=False);\n",
    "data.head()"
   ]
  },
  {
   "cell_type": "code",
   "execution_count": 3,
   "metadata": {},
   "outputs": [
    {
     "data": {
      "text/html": [
       "<div>\n",
       "<style scoped>\n",
       "    .dataframe tbody tr th:only-of-type {\n",
       "        vertical-align: middle;\n",
       "    }\n",
       "\n",
       "    .dataframe tbody tr th {\n",
       "        vertical-align: top;\n",
       "    }\n",
       "\n",
       "    .dataframe thead th {\n",
       "        text-align: right;\n",
       "    }\n",
       "</style>\n",
       "<table border=\"1\" class=\"dataframe\">\n",
       "  <thead>\n",
       "    <tr style=\"text-align: right;\">\n",
       "      <th></th>\n",
       "      <th>headline_text</th>\n",
       "      <th>index</th>\n",
       "    </tr>\n",
       "  </thead>\n",
       "  <tbody>\n",
       "    <tr>\n",
       "      <th>0</th>\n",
       "      <td>aba decides against community broadcasting lic...</td>\n",
       "      <td>0</td>\n",
       "    </tr>\n",
       "    <tr>\n",
       "      <th>1</th>\n",
       "      <td>act fire witnesses must be aware of defamation</td>\n",
       "      <td>1</td>\n",
       "    </tr>\n",
       "    <tr>\n",
       "      <th>2</th>\n",
       "      <td>a g calls for infrastructure protection summit</td>\n",
       "      <td>2</td>\n",
       "    </tr>\n",
       "    <tr>\n",
       "      <th>3</th>\n",
       "      <td>air nz staff in aust strike for pay rise</td>\n",
       "      <td>3</td>\n",
       "    </tr>\n",
       "    <tr>\n",
       "      <th>4</th>\n",
       "      <td>air nz strike to affect australian travellers</td>\n",
       "      <td>4</td>\n",
       "    </tr>\n",
       "  </tbody>\n",
       "</table>\n",
       "</div>"
      ],
      "text/plain": [
       "                                       headline_text  index\n",
       "0  aba decides against community broadcasting lic...      0\n",
       "1     act fire witnesses must be aware of defamation      1\n",
       "2     a g calls for infrastructure protection summit      2\n",
       "3           air nz staff in aust strike for pay rise      3\n",
       "4      air nz strike to affect australian travellers      4"
      ]
     },
     "execution_count": 3,
     "metadata": {},
     "output_type": "execute_result"
    }
   ],
   "source": [
    "data_text = data[['headline_text']]\n",
    "data_text['index'] = data_text.index\n",
    "documents = data_text\n",
    "documents.head()"
   ]
  },
  {
   "cell_type": "code",
   "execution_count": 4,
   "metadata": {},
   "outputs": [
    {
     "data": {
      "text/plain": [
       "(1226258, 2)"
      ]
     },
     "execution_count": 4,
     "metadata": {},
     "output_type": "execute_result"
    }
   ],
   "source": [
    "documents.shape"
   ]
  },
  {
   "cell_type": "markdown",
   "metadata": {},
   "source": [
    "### Data Pre-processing\n",
    "We will perform the following steps:\n",
    "- Tokenization: Split the text into sentences and the sentences into words. Lowercase the words and remove punctuation.\n",
    "- Words that have fewer than 3 characters are removed.\n",
    "- All stopwords are removed.\n",
    "- Words are lemmatized — words in third person are changed to first person and verbs in past and future tenses are changed into present.\n",
    "- Words are stemmed — words are reduced to their root form.\n",
    "\n",
    "### Loading gensim and nltk libraries"
   ]
  },
  {
   "cell_type": "code",
   "execution_count": 13,
   "metadata": {},
   "outputs": [],
   "source": [
    "from nltk.stem.porter import PorterStemmer\n",
    "PorterStemmer.stem()"
   ]
  },
  {
   "cell_type": "code",
   "execution_count": 14,
   "metadata": {},
   "outputs": [
    {
     "name": "stderr",
     "output_type": "stream",
     "text": [
      "[nltk_data] Downloading package wordnet to\n",
      "[nltk_data]     C:\\Users\\Admin\\AppData\\Roaming\\nltk_data...\n",
      "[nltk_data]   Package wordnet is already up-to-date!\n"
     ]
    },
    {
     "data": {
      "text/plain": [
       "True"
      ]
     },
     "execution_count": 14,
     "metadata": {},
     "output_type": "execute_result"
    }
   ],
   "source": [
    "import gensim\n",
    "from gensim.utils import simple_preprocess\n",
    "from gensim.parsing.preprocessing import STOPWORDS\n",
    "from nltk.stem import WordNetLemmatizer, SnowballStemmer, StemmerI\n",
    "from nltk.stem.porter import *\n",
    "from nltk.stem.porter import PorterStemmer\n",
    "import numpy as np\n",
    "np.random.seed(2018)\n",
    "import nltk\n",
    "nltk.download('wordnet')"
   ]
  },
  {
   "cell_type": "code",
   "execution_count": 35,
   "metadata": {},
   "outputs": [],
   "source": [
    "def lemmatize_stemming(text):\n",
    "    st = PorterStemmer()\n",
    "    return st.stem(WordNetLemmatizer().lemmatize(text, pos='v'))\n",
    "\n",
    "def preprocess(text):\n",
    "    result = []\n",
    "    for token in gensim.utils.simple_preprocess(text):\n",
    "        if token not in gensim.parsing.preprocessing.STOPWORDS and len(token) > 3:\n",
    "            result.append(lemmatize_stemming(token))\n",
    "    return result"
   ]
  },
  {
   "cell_type": "code",
   "execution_count": 37,
   "metadata": {},
   "outputs": [
    {
     "name": "stdout",
     "output_type": "stream",
     "text": [
      "original document: \n",
      "['rain', 'helps', 'dampen', 'bushfires']\n",
      "\n",
      "\n",
      " tokenized and lemmatized document: \n",
      "['rain', 'help', 'dampen', 'bushfir']\n"
     ]
    }
   ],
   "source": [
    "doc_sample = documents[documents['index'] == 4309].values[0][0]\n",
    "print('original document: ')\n",
    "words = []\n",
    "for word in doc_sample.split(' '):\n",
    "    words.append(word)\n",
    "print(words)\n",
    "print('\\n\\n tokenized and lemmatized document: ')\n",
    "print(preprocess(doc_sample))"
   ]
  },
  {
   "cell_type": "code",
   "execution_count": 38,
   "metadata": {},
   "outputs": [
    {
     "data": {
      "text/plain": [
       "0               [decid, commun, broadcast, licenc]\n",
       "1                               [wit, awar, defam]\n",
       "2           [call, infrastructur, protect, summit]\n",
       "3                      [staff, aust, strike, rise]\n",
       "4             [strike, affect, australian, travel]\n",
       "5               [ambiti, olsson, win, tripl, jump]\n",
       "6           [antic, delight, record, break, barca]\n",
       "7    [aussi, qualifi, stosur, wast, memphi, match]\n",
       "8            [aust, address, secur, council, iraq]\n",
       "9                         [australia, lock, timet]\n",
       "Name: headline_text, dtype: object"
      ]
     },
     "execution_count": 38,
     "metadata": {},
     "output_type": "execute_result"
    }
   ],
   "source": [
    "processed_docs = documents['headline_text'].map(preprocess)\n",
    "processed_docs[:10]"
   ]
  },
  {
   "cell_type": "markdown",
   "metadata": {},
   "source": [
    "Bag of Words on the Data set\n",
    "\n",
    "Create a dictionary from ‘processed_docs’ containing the number of times a word appears in the training set."
   ]
  },
  {
   "cell_type": "code",
   "execution_count": 39,
   "metadata": {},
   "outputs": [
    {
     "data": {
      "text/plain": [
       "<gensim.corpora.dictionary.Dictionary at 0x18fd1f1abe0>"
      ]
     },
     "execution_count": 39,
     "metadata": {},
     "output_type": "execute_result"
    }
   ],
   "source": [
    "dictionary = gensim.corpora.Dictionary(processed_docs)\n",
    "dictionary"
   ]
  },
  {
   "cell_type": "code",
   "execution_count": 40,
   "metadata": {},
   "outputs": [
    {
     "name": "stdout",
     "output_type": "stream",
     "text": [
      "0 broadcast\n",
      "1 commun\n",
      "2 decid\n",
      "3 licenc\n",
      "4 awar\n",
      "5 defam\n",
      "6 wit\n",
      "7 call\n",
      "8 infrastructur\n",
      "9 protect\n",
      "10 summit\n"
     ]
    }
   ],
   "source": [
    "count = 0\n",
    "for k, v in dictionary.iteritems():\n",
    "    print(k, v)\n",
    "    count += 1\n",
    "    if count > 10:\n",
    "        break"
   ]
  },
  {
   "cell_type": "markdown",
   "metadata": {},
   "source": [
    "## Gensim filter_extremes\n",
    "\n",
    "Filter out tokens that appear in\n",
    "less than 15 documents (absolute number) or\n",
    "more than 0.5 documents (fraction of total corpus size, not absolute number).\n",
    "after the above two steps, keep only the first 100000 most frequent tokens."
   ]
  },
  {
   "cell_type": "code",
   "execution_count": 41,
   "metadata": {},
   "outputs": [],
   "source": [
    "dictionary.filter_extremes(no_below=15, no_above=0.5, keep_n=100000)"
   ]
  },
  {
   "cell_type": "markdown",
   "metadata": {},
   "source": [
    "## Gensim doc2bow\n",
    "\n",
    "For each document we create a dictionary reporting how many\n",
    "words and how many times those words appear. Save this to ‘bow_corpus’, then check our selected document earlier."
   ]
  },
  {
   "cell_type": "code",
   "execution_count": 45,
   "metadata": {
    "scrolled": true
   },
   "outputs": [
    {
     "data": {
      "text/plain": [
       "[(76, 1), (112, 1), (484, 1), (4051, 1)]"
      ]
     },
     "execution_count": 45,
     "metadata": {},
     "output_type": "execute_result"
    }
   ],
   "source": [
    "bow_corpus = [dictionary.doc2bow(doc) for doc in processed_docs]\n",
    "bow_corpus[4309]"
   ]
  },
  {
   "cell_type": "code",
   "execution_count": 47,
   "metadata": {},
   "outputs": [
    {
     "data": {
      "text/plain": [
       "[[(0, 1), (1, 1), (2, 1), (3, 1)],\n",
       " [(4, 1), (5, 1), (6, 1)],\n",
       " [(7, 1), (8, 1), (9, 1), (10, 1)],\n",
       " [(11, 1), (12, 1), (13, 1), (14, 1)],\n",
       " [(14, 1), (15, 1), (16, 1), (17, 1)],\n",
       " [(18, 1), (19, 1), (20, 1), (21, 1)],\n",
       " [(22, 1), (23, 1), (24, 1), (25, 1), (26, 1)],\n",
       " [(27, 1), (28, 1), (29, 1), (30, 1), (31, 1), (32, 1)],\n",
       " [(11, 1), (33, 1), (34, 1), (35, 1), (36, 1)],\n",
       " [(37, 1), (38, 1), (39, 1)]]"
      ]
     },
     "execution_count": 47,
     "metadata": {},
     "output_type": "execute_result"
    }
   ],
   "source": [
    "bow_corpus[:10]"
   ]
  },
  {
   "cell_type": "code",
   "execution_count": 48,
   "metadata": {},
   "outputs": [
    {
     "data": {
      "text/plain": [
       "[(360, 1), (1134, 1), (1188, 1), (3238, 1), (12066, 1)]"
      ]
     },
     "execution_count": 48,
     "metadata": {},
     "output_type": "execute_result"
    }
   ],
   "source": [
    "bow_corpus[-1]"
   ]
  },
  {
   "cell_type": "markdown",
   "metadata": {},
   "source": [
    "Preview Bag Of Words for our sample preprocessed document."
   ]
  },
  {
   "cell_type": "code",
   "execution_count": 46,
   "metadata": {},
   "outputs": [
    {
     "name": "stdout",
     "output_type": "stream",
     "text": [
      "Word 76 (\"bushfir\") appears 1 time.\n",
      "Word 112 (\"help\") appears 1 time.\n",
      "Word 484 (\"rain\") appears 1 time.\n",
      "Word 4051 (\"dampen\") appears 1 time.\n"
     ]
    }
   ],
   "source": [
    "bow_doc_4310 = bow_corpus[4309]\n",
    "for i in range(len(bow_doc_4310)):\n",
    "    print(\"Word {} (\\\"{}\\\") appears {} time.\".format(bow_doc_4310[i][0], \n",
    "                                               dictionary[bow_doc_4310[i][0]], \n",
    "bow_doc_4310[i][1]))"
   ]
  },
  {
   "cell_type": "markdown",
   "metadata": {},
   "source": [
    "## TF-IDF\n",
    "\n",
    "Create tf-idf model object using models.TfidfModel on ‘bow_corpus’ and save it to ‘tfidf’, then apply transformation to the entire corpus and call it ‘corpus_tfidf’. Finally we preview TF-IDF scores for our first document."
   ]
  },
  {
   "cell_type": "code",
   "execution_count": 49,
   "metadata": {},
   "outputs": [
    {
     "name": "stdout",
     "output_type": "stream",
     "text": [
      "[(0, 0.5852942020878993),\n",
      " (1, 0.38405854933668493),\n",
      " (2, 0.5017732999224691),\n",
      " (3, 0.5080878695349914)]\n"
     ]
    }
   ],
   "source": [
    "from gensim import corpora, models\n",
    "tfidf = models.TfidfModel(bow_corpus)\n",
    "corpus_tfidf = tfidf[bow_corpus]\n",
    "from pprint import pprint\n",
    "for doc in corpus_tfidf:\n",
    "    pprint(doc)\n",
    "    break"
   ]
  },
  {
   "cell_type": "markdown",
   "metadata": {},
   "source": [
    "# Running LDA using Bag of Words\n",
    "Train our lda model using gensim.models.\n",
    "\n",
    "LdaMulticore and save it to ‘lda_model’"
   ]
  },
  {
   "cell_type": "code",
   "execution_count": 51,
   "metadata": {},
   "outputs": [],
   "source": [
    "lda_model = gensim.models.LdaMulticore(bow_corpus, num_topics=10, id2word=dictionary, passes=2, workers=2)"
   ]
  },
  {
   "cell_type": "markdown",
   "metadata": {},
   "source": [
    "For each topic, we will explore the words occuring in that topic and its relative weight.\n"
   ]
  },
  {
   "cell_type": "code",
   "execution_count": 52,
   "metadata": {},
   "outputs": [
    {
     "name": "stdout",
     "output_type": "stream",
     "text": [
      "Topic: 0 \n",
      "Words: 0.027*\"donald\" + 0.025*\"kill\" + 0.023*\"market\" + 0.022*\"attack\" + 0.018*\"border\" + 0.014*\"morrison\" + 0.013*\"dead\" + 0.013*\"interview\" + 0.010*\"find\" + 0.009*\"share\"\n",
      "Topic: 1 \n",
      "Words: 0.032*\"sydney\" + 0.032*\"polic\" + 0.029*\"year\" + 0.026*\"news\" + 0.022*\"record\" + 0.017*\"rise\" + 0.017*\"hous\" + 0.017*\"investig\" + 0.016*\"death\" + 0.013*\"shoot\"\n",
      "Topic: 2 \n",
      "Words: 0.033*\"china\" + 0.019*\"miss\" + 0.017*\"work\" + 0.015*\"australia\" + 0.015*\"countri\" + 0.014*\"victim\" + 0.013*\"releas\" + 0.012*\"season\" + 0.012*\"search\" + 0.012*\"chines\"\n",
      "Topic: 3 \n",
      "Words: 0.019*\"women\" + 0.018*\"feder\" + 0.016*\"peopl\" + 0.016*\"farmer\" + 0.015*\"health\" + 0.014*\"win\" + 0.014*\"labor\" + 0.013*\"take\" + 0.011*\"servic\" + 0.011*\"beat\"\n",
      "Topic: 4 \n",
      "Words: 0.023*\"bushfir\" + 0.023*\"school\" + 0.021*\"canberra\" + 0.017*\"busi\" + 0.014*\"student\" + 0.011*\"darwin\" + 0.011*\"adelaid\" + 0.009*\"vaccin\" + 0.009*\"port\" + 0.009*\"black\"\n",
      "Topic: 5 \n",
      "Words: 0.046*\"trump\" + 0.034*\"elect\" + 0.024*\"live\" + 0.015*\"island\" + 0.013*\"say\" + 0.011*\"andrew\" + 0.009*\"state\" + 0.009*\"john\" + 0.009*\"liber\" + 0.009*\"test\"\n",
      "Topic: 6 \n",
      "Words: 0.027*\"charg\" + 0.027*\"case\" + 0.026*\"court\" + 0.022*\"murder\" + 0.020*\"polic\" + 0.018*\"woman\" + 0.018*\"face\" + 0.014*\"jail\" + 0.013*\"trial\" + 0.013*\"accus\"\n",
      "Topic: 7 \n",
      "Words: 0.053*\"coronaviru\" + 0.043*\"australia\" + 0.035*\"queensland\" + 0.028*\"victoria\" + 0.022*\"covid\" + 0.019*\"south\" + 0.017*\"coast\" + 0.016*\"tasmania\" + 0.015*\"home\" + 0.013*\"final\"\n",
      "Topic: 8 \n",
      "Words: 0.050*\"australian\" + 0.015*\"coronaviru\" + 0.013*\"fight\" + 0.013*\"royal\" + 0.012*\"scott\" + 0.011*\"street\" + 0.011*\"drum\" + 0.011*\"commiss\" + 0.010*\"australia\" + 0.010*\"travel\"\n",
      "Topic: 9 \n",
      "Words: 0.028*\"govern\" + 0.018*\"crash\" + 0.017*\"chang\" + 0.014*\"restrict\" + 0.014*\"plan\" + 0.014*\"hospit\" + 0.012*\"fund\" + 0.012*\"council\" + 0.011*\"region\" + 0.011*\"nation\"\n"
     ]
    }
   ],
   "source": [
    "for idx, topic in lda_model.print_topics(-1):\n",
    "    print('Topic: {} \\nWords: {}'.format(idx, topic))"
   ]
  },
  {
   "cell_type": "markdown",
   "metadata": {},
   "source": [
    "## Running LDA using TF-IDF"
   ]
  },
  {
   "cell_type": "code",
   "execution_count": 53,
   "metadata": {},
   "outputs": [
    {
     "name": "stdout",
     "output_type": "stream",
     "text": [
      "Topic: 0 \n",
      "Word: 0.019*\"coronaviru\" + 0.013*\"covid\" + 0.012*\"countri\" + 0.010*\"hour\" + 0.009*\"market\" + 0.009*\"queensland\" + 0.008*\"australia\" + 0.008*\"weather\" + 0.007*\"china\" + 0.007*\"australian\"\n",
      "Topic: 1 \n",
      "Word: 0.035*\"trump\" + 0.018*\"interview\" + 0.010*\"search\" + 0.010*\"monday\" + 0.010*\"wednesday\" + 0.009*\"scott\" + 0.008*\"miss\" + 0.007*\"daniel\" + 0.007*\"extend\" + 0.006*\"flight\"\n",
      "Topic: 2 \n",
      "Word: 0.027*\"news\" + 0.009*\"sport\" + 0.009*\"financ\" + 0.009*\"busi\" + 0.009*\"david\" + 0.008*\"nation\" + 0.007*\"rural\" + 0.007*\"energi\" + 0.007*\"grandstand\" + 0.007*\"gener\"\n",
      "Topic: 3 \n",
      "Word: 0.017*\"polic\" + 0.017*\"charg\" + 0.015*\"murder\" + 0.012*\"crash\" + 0.012*\"woman\" + 0.011*\"court\" + 0.011*\"death\" + 0.010*\"kill\" + 0.010*\"jail\" + 0.010*\"shoot\"\n",
      "Topic: 4 \n",
      "Word: 0.011*\"donald\" + 0.010*\"final\" + 0.009*\"world\" + 0.009*\"australia\" + 0.009*\"royal\" + 0.007*\"leagu\" + 0.007*\"andrew\" + 0.007*\"live\" + 0.007*\"beat\" + 0.006*\"cricket\"\n",
      "Topic: 5 \n",
      "Word: 0.013*\"elect\" + 0.009*\"tuesday\" + 0.007*\"lockdown\" + 0.007*\"liber\" + 0.007*\"parti\" + 0.007*\"say\" + 0.006*\"labor\" + 0.006*\"state\" + 0.006*\"presid\" + 0.006*\"hong\"\n",
      "Topic: 6 \n",
      "Word: 0.009*\"health\" + 0.009*\"rural\" + 0.008*\"morrison\" + 0.007*\"care\" + 0.007*\"friday\" + 0.006*\"coronaviru\" + 0.006*\"indigen\" + 0.006*\"age\" + 0.006*\"mental\" + 0.006*\"fund\"\n",
      "Topic: 7 \n",
      "Word: 0.008*\"govern\" + 0.007*\"updat\" + 0.007*\"tasmania\" + 0.007*\"juli\" + 0.006*\"council\" + 0.005*\"plan\" + 0.005*\"farm\" + 0.005*\"tree\" + 0.005*\"chang\" + 0.004*\"coronaviru\"\n",
      "Topic: 8 \n",
      "Word: 0.014*\"drum\" + 0.013*\"bushfir\" + 0.012*\"victorian\" + 0.012*\"coronaviru\" + 0.010*\"victoria\" + 0.007*\"violenc\" + 0.007*\"home\" + 0.007*\"coast\" + 0.006*\"burn\" + 0.006*\"domest\"\n",
      "Topic: 9 \n",
      "Word: 0.009*\"restrict\" + 0.008*\"zealand\" + 0.008*\"coronaviru\" + 0.006*\"octob\" + 0.006*\"fiji\" + 0.006*\"biden\" + 0.006*\"teacher\" + 0.006*\"australia\" + 0.005*\"asylum\" + 0.005*\"action\"\n"
     ]
    }
   ],
   "source": [
    "lda_model_tfidf = gensim.models.LdaMulticore(corpus_tfidf, num_topics=10, id2word=dictionary, passes=2, workers=4)\n",
    "for idx, topic in lda_model_tfidf.print_topics(-1):\n",
    "    print('Topic: {} \\nWord: {}'.format(idx, topic))"
   ]
  },
  {
   "cell_type": "markdown",
   "metadata": {},
   "source": [
    "## Classification of the topics\n",
    "Performance evaluation by classifying sample document using LDA Bag of Words model"
   ]
  },
  {
   "cell_type": "code",
   "execution_count": 55,
   "metadata": {},
   "outputs": [
    {
     "data": {
      "text/plain": [
       "['rain', 'help', 'dampen', 'bushfir']"
      ]
     },
     "execution_count": 55,
     "metadata": {},
     "output_type": "execute_result"
    }
   ],
   "source": [
    "\n",
    "processed_docs[4309]"
   ]
  },
  {
   "cell_type": "markdown",
   "metadata": {},
   "source": [
    "### Performance evaluation by classifying sample document using LDA Bag of Words model"
   ]
  },
  {
   "cell_type": "code",
   "execution_count": 56,
   "metadata": {},
   "outputs": [
    {
     "name": "stdout",
     "output_type": "stream",
     "text": [
      "\n",
      "Score: 0.5549039244651794\t \n",
      "Topic: 0.053*\"coronaviru\" + 0.043*\"australia\" + 0.035*\"queensland\" + 0.028*\"victoria\" + 0.022*\"covid\" + 0.019*\"south\" + 0.017*\"coast\" + 0.016*\"tasmania\" + 0.015*\"home\" + 0.013*\"final\"\n",
      "\n",
      "Score: 0.2850033640861511\t \n",
      "Topic: 0.023*\"bushfir\" + 0.023*\"school\" + 0.021*\"canberra\" + 0.017*\"busi\" + 0.014*\"student\" + 0.011*\"darwin\" + 0.011*\"adelaid\" + 0.009*\"vaccin\" + 0.009*\"port\" + 0.009*\"black\"\n",
      "\n",
      "Score: 0.020016008988022804\t \n",
      "Topic: 0.019*\"women\" + 0.018*\"feder\" + 0.016*\"peopl\" + 0.016*\"farmer\" + 0.015*\"health\" + 0.014*\"win\" + 0.014*\"labor\" + 0.013*\"take\" + 0.011*\"servic\" + 0.011*\"beat\"\n",
      "\n",
      "Score: 0.020013820379972458\t \n",
      "Topic: 0.028*\"govern\" + 0.018*\"crash\" + 0.017*\"chang\" + 0.014*\"restrict\" + 0.014*\"plan\" + 0.014*\"hospit\" + 0.012*\"fund\" + 0.012*\"council\" + 0.011*\"region\" + 0.011*\"nation\"\n",
      "\n",
      "Score: 0.020011354237794876\t \n",
      "Topic: 0.033*\"china\" + 0.019*\"miss\" + 0.017*\"work\" + 0.015*\"australia\" + 0.015*\"countri\" + 0.014*\"victim\" + 0.013*\"releas\" + 0.012*\"season\" + 0.012*\"search\" + 0.012*\"chines\"\n",
      "\n",
      "Score: 0.02001134306192398\t \n",
      "Topic: 0.050*\"australian\" + 0.015*\"coronaviru\" + 0.013*\"fight\" + 0.013*\"royal\" + 0.012*\"scott\" + 0.011*\"street\" + 0.011*\"drum\" + 0.011*\"commiss\" + 0.010*\"australia\" + 0.010*\"travel\"\n",
      "\n",
      "Score: 0.020010653883218765\t \n",
      "Topic: 0.032*\"sydney\" + 0.032*\"polic\" + 0.029*\"year\" + 0.026*\"news\" + 0.022*\"record\" + 0.017*\"rise\" + 0.017*\"hous\" + 0.017*\"investig\" + 0.016*\"death\" + 0.013*\"shoot\"\n",
      "\n",
      "Score: 0.020009838044643402\t \n",
      "Topic: 0.027*\"donald\" + 0.025*\"kill\" + 0.023*\"market\" + 0.022*\"attack\" + 0.018*\"border\" + 0.014*\"morrison\" + 0.013*\"dead\" + 0.013*\"interview\" + 0.010*\"find\" + 0.009*\"share\"\n",
      "\n",
      "Score: 0.020009838044643402\t \n",
      "Topic: 0.046*\"trump\" + 0.034*\"elect\" + 0.024*\"live\" + 0.015*\"island\" + 0.013*\"say\" + 0.011*\"andrew\" + 0.009*\"state\" + 0.009*\"john\" + 0.009*\"liber\" + 0.009*\"test\"\n",
      "\n",
      "Score: 0.020009838044643402\t \n",
      "Topic: 0.027*\"charg\" + 0.027*\"case\" + 0.026*\"court\" + 0.022*\"murder\" + 0.020*\"polic\" + 0.018*\"woman\" + 0.018*\"face\" + 0.014*\"jail\" + 0.013*\"trial\" + 0.013*\"accus\"\n"
     ]
    }
   ],
   "source": [
    "for index, score in sorted(lda_model[bow_corpus[4309]], key=lambda tup: -1*tup[1]):\n",
    "    print(\"\\nScore: {}\\t \\nTopic: {}\".format(score, lda_model.print_topic(index, 10)))"
   ]
  },
  {
   "cell_type": "markdown",
   "metadata": {},
   "source": [
    "### Performance evaluation by classifying sample document using LDA TF-IDF model"
   ]
  },
  {
   "cell_type": "code",
   "execution_count": 57,
   "metadata": {
    "scrolled": true
   },
   "outputs": [
    {
     "name": "stdout",
     "output_type": "stream",
     "text": [
      "\n",
      "Score: 0.4920821189880371\t \n",
      "Topic: 0.019*\"coronaviru\" + 0.013*\"covid\" + 0.012*\"countri\" + 0.010*\"hour\" + 0.009*\"market\" + 0.009*\"queensland\" + 0.008*\"australia\" + 0.008*\"weather\" + 0.007*\"china\" + 0.007*\"australian\"\n",
      "\n",
      "Score: 0.34785884618759155\t \n",
      "Topic: 0.014*\"drum\" + 0.013*\"bushfir\" + 0.012*\"victorian\" + 0.012*\"coronaviru\" + 0.010*\"victoria\" + 0.007*\"violenc\" + 0.007*\"home\" + 0.007*\"coast\" + 0.006*\"burn\" + 0.006*\"domest\"\n",
      "\n",
      "Score: 0.020010540261864662\t \n",
      "Topic: 0.009*\"health\" + 0.009*\"rural\" + 0.008*\"morrison\" + 0.007*\"care\" + 0.007*\"friday\" + 0.006*\"coronaviru\" + 0.006*\"indigen\" + 0.006*\"age\" + 0.006*\"mental\" + 0.006*\"fund\"\n",
      "\n",
      "Score: 0.020007790997624397\t \n",
      "Topic: 0.009*\"restrict\" + 0.008*\"zealand\" + 0.008*\"coronaviru\" + 0.006*\"octob\" + 0.006*\"fiji\" + 0.006*\"biden\" + 0.006*\"teacher\" + 0.006*\"australia\" + 0.005*\"asylum\" + 0.005*\"action\"\n",
      "\n",
      "Score: 0.02000746876001358\t \n",
      "Topic: 0.008*\"govern\" + 0.007*\"updat\" + 0.007*\"tasmania\" + 0.007*\"juli\" + 0.006*\"council\" + 0.005*\"plan\" + 0.005*\"farm\" + 0.005*\"tree\" + 0.005*\"chang\" + 0.004*\"coronaviru\"\n",
      "\n",
      "Score: 0.020007221028208733\t \n",
      "Topic: 0.017*\"polic\" + 0.017*\"charg\" + 0.015*\"murder\" + 0.012*\"crash\" + 0.012*\"woman\" + 0.011*\"court\" + 0.011*\"death\" + 0.010*\"kill\" + 0.010*\"jail\" + 0.010*\"shoot\"\n",
      "\n",
      "Score: 0.02000671625137329\t \n",
      "Topic: 0.013*\"elect\" + 0.009*\"tuesday\" + 0.007*\"lockdown\" + 0.007*\"liber\" + 0.007*\"parti\" + 0.007*\"say\" + 0.006*\"labor\" + 0.006*\"state\" + 0.006*\"presid\" + 0.006*\"hong\"\n",
      "\n",
      "Score: 0.02000650390982628\t \n",
      "Topic: 0.035*\"trump\" + 0.018*\"interview\" + 0.010*\"search\" + 0.010*\"monday\" + 0.010*\"wednesday\" + 0.009*\"scott\" + 0.008*\"miss\" + 0.007*\"daniel\" + 0.007*\"extend\" + 0.006*\"flight\"\n",
      "\n",
      "Score: 0.020006446167826653\t \n",
      "Topic: 0.011*\"donald\" + 0.010*\"final\" + 0.009*\"world\" + 0.009*\"australia\" + 0.009*\"royal\" + 0.007*\"leagu\" + 0.007*\"andrew\" + 0.007*\"live\" + 0.007*\"beat\" + 0.006*\"cricket\"\n",
      "\n",
      "Score: 0.020006386563181877\t \n",
      "Topic: 0.027*\"news\" + 0.009*\"sport\" + 0.009*\"financ\" + 0.009*\"busi\" + 0.009*\"david\" + 0.008*\"nation\" + 0.007*\"rural\" + 0.007*\"energi\" + 0.007*\"grandstand\" + 0.007*\"gener\"\n"
     ]
    }
   ],
   "source": [
    "\n",
    "\n",
    "\n",
    "for index, score in sorted(lda_model_tfidf[bow_corpus[4309]], key=lambda tup: -1*tup[1]):\n",
    "    print(\"\\nScore: {}\\t \\nTopic: {}\".format(score, lda_model_tfidf.print_topic(index, 10)))"
   ]
  },
  {
   "cell_type": "code",
   "execution_count": null,
   "metadata": {},
   "outputs": [],
   "source": [
    "# Our test document has the highest probability to be part of the topic on the top"
   ]
  },
  {
   "cell_type": "code",
   "execution_count": 58,
   "metadata": {},
   "outputs": [
    {
     "name": "stdout",
     "output_type": "stream",
     "text": [
      "Score: 0.49834156036376953\t Topic: 0.033*\"china\" + 0.019*\"miss\" + 0.017*\"work\" + 0.015*\"australia\" + 0.015*\"countri\"\n",
      "Score: 0.20165833830833435\t Topic: 0.050*\"australian\" + 0.015*\"coronaviru\" + 0.013*\"fight\" + 0.013*\"royal\" + 0.012*\"scott\"\n",
      "Score: 0.18330468237400055\t Topic: 0.023*\"bushfir\" + 0.023*\"school\" + 0.021*\"canberra\" + 0.017*\"busi\" + 0.014*\"student\"\n",
      "Score: 0.016671162098646164\t Topic: 0.028*\"govern\" + 0.018*\"crash\" + 0.017*\"chang\" + 0.014*\"restrict\" + 0.014*\"plan\"\n",
      "Score: 0.016670942306518555\t Topic: 0.053*\"coronaviru\" + 0.043*\"australia\" + 0.035*\"queensland\" + 0.028*\"victoria\" + 0.022*\"covid\"\n",
      "Score: 0.016670912504196167\t Topic: 0.019*\"women\" + 0.018*\"feder\" + 0.016*\"peopl\" + 0.016*\"farmer\" + 0.015*\"health\"\n",
      "Score: 0.016670826822519302\t Topic: 0.032*\"sydney\" + 0.032*\"polic\" + 0.029*\"year\" + 0.026*\"news\" + 0.022*\"record\"\n",
      "Score: 0.016670534387230873\t Topic: 0.046*\"trump\" + 0.034*\"elect\" + 0.024*\"live\" + 0.015*\"island\" + 0.013*\"say\"\n",
      "Score: 0.016670512035489082\t Topic: 0.027*\"donald\" + 0.025*\"kill\" + 0.023*\"market\" + 0.022*\"attack\" + 0.018*\"border\"\n",
      "Score: 0.016670512035489082\t Topic: 0.027*\"charg\" + 0.027*\"case\" + 0.026*\"court\" + 0.022*\"murder\" + 0.020*\"polic\"\n"
     ]
    }
   ],
   "source": [
    "# Testing model on unseen document\n",
    "unseen_document = 'How a Pentagon deal became an identity crisis for Google'\n",
    "bow_vector = dictionary.doc2bow(preprocess(unseen_document))\n",
    "\n",
    "for index, score in sorted(lda_model[bow_vector], key=lambda tup: -1*tup[1]):\n",
    "    print(\"Score: {}\\t Topic: {}\".format(score, lda_model.print_topic(index, 5)))"
   ]
  },
  {
   "cell_type": "markdown",
   "metadata": {},
   "source": [
    "[link](https://towardsdatascience.com/topic-modeling-and-latent-dirichlet-allocation-in-python-9bf156893c24)"
   ]
  },
  {
   "cell_type": "code",
   "execution_count": null,
   "metadata": {},
   "outputs": [],
   "source": []
  },
  {
   "cell_type": "code",
   "execution_count": null,
   "metadata": {},
   "outputs": [],
   "source": []
  }
 ],
 "metadata": {
  "kernelspec": {
   "display_name": "Python 3",
   "language": "python",
   "name": "python3"
  },
  "language_info": {
   "codemirror_mode": {
    "name": "ipython",
    "version": 3
   },
   "file_extension": ".py",
   "mimetype": "text/x-python",
   "name": "python",
   "nbconvert_exporter": "python",
   "pygments_lexer": "ipython3",
   "version": "3.8.5"
  }
 },
 "nbformat": 4,
 "nbformat_minor": 4
}
